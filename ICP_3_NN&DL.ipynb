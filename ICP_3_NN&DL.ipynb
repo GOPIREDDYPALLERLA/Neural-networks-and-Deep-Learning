{
  "nbformat": 4,
  "nbformat_minor": 0,
  "metadata": {
    "colab": {
      "provenance": []
    },
    "kernelspec": {
      "name": "python3",
      "display_name": "Python 3"
    },
    "language_info": {
      "name": "python"
    }
  },
  "cells": [
    {
      "cell_type": "code",
      "execution_count": 26,
      "metadata": {
        "id": "PhmPv0czHsbm"
      },
      "outputs": [],
      "source": [
        "#ICP_3 Assingment\n",
        "#Author: Gopi Reddy Pallerla\n",
        "#code language: Python\n",
        "# vedio link: https://drive.google.com/file/d/19b2NNZk5UQC3bC2SefGs549XRmjsteUm/view?usp=sharing\n",
        "\n",
        "\n",
        "#Question 1.\n",
        "# a. reading csv data file\n",
        "import pandas as pd\n",
        "\n",
        "df = pd.read_csv('data.csv')\n"
      ]
    },
    {
      "cell_type": "code",
      "source": [],
      "metadata": {
        "id": "765VrM_gix5w"
      },
      "execution_count": null,
      "outputs": []
    },
    {
      "cell_type": "code",
      "source": [
        "# B. Sastical description about the data\n",
        "\n",
        "print(df.describe())\n"
      ],
      "metadata": {
        "colab": {
          "base_uri": "https://localhost:8080/"
        },
        "id": "gYRvXehjJPMy",
        "outputId": "88663710-d58d-4c5c-bc2e-c11e83190754"
      },
      "execution_count": 4,
      "outputs": [
        {
          "output_type": "stream",
          "name": "stdout",
          "text": [
            "         Duration       Pulse    Maxpulse     Calories\n",
            "count  169.000000  169.000000  169.000000   164.000000\n",
            "mean    63.846154  107.461538  134.047337   375.790244\n",
            "std     42.299949   14.510259   16.450434   266.379919\n",
            "min     15.000000   80.000000  100.000000    50.300000\n",
            "25%     45.000000  100.000000  124.000000   250.925000\n",
            "50%     60.000000  105.000000  131.000000   318.600000\n",
            "75%     60.000000  111.000000  141.000000   387.600000\n",
            "max    300.000000  159.000000  184.000000  1860.400000\n"
          ]
        }
      ]
    },
    {
      "cell_type": "code",
      "source": [
        "#C. checking the data of null values\n",
        "\n",
        "print(df.isnull().sum())"
      ],
      "metadata": {
        "colab": {
          "base_uri": "https://localhost:8080/"
        },
        "id": "-BDSC_I-JfTF",
        "outputId": "128b5b3d-dfb3-4e3e-cd69-891ef7f22ade"
      },
      "execution_count": 5,
      "outputs": [
        {
          "output_type": "stream",
          "name": "stdout",
          "text": [
            "Duration    0\n",
            "Pulse       0\n",
            "Maxpulse    0\n",
            "Calories    5\n",
            "dtype: int64\n"
          ]
        }
      ]
    },
    {
      "cell_type": "code",
      "source": [
        "# D. Replacing with mean\n",
        "\n",
        "df.fillna(df.mean(), inplace=True)"
      ],
      "metadata": {
        "id": "4ngGDNDVJ3TW"
      },
      "execution_count": 7,
      "outputs": []
    },
    {
      "cell_type": "code",
      "source": [
        "# E. selecting 2 columns and aggregating data using min, max, count, mean\n",
        "# selecting 'Pulse' and 'Maxpulse' with actual column names\n",
        "agg_df = df[['Pulse', 'Maxpulse']].agg(['min', 'max', 'count', 'mean'])\n",
        "print(agg_df)"
      ],
      "metadata": {
        "colab": {
          "base_uri": "https://localhost:8080/"
        },
        "id": "_wSnF1wTKE4L",
        "outputId": "fee02ade-2aca-4124-ab90-3765625e9d84"
      },
      "execution_count": 9,
      "outputs": [
        {
          "output_type": "stream",
          "name": "stdout",
          "text": [
            "            Pulse    Maxpulse\n",
            "min     80.000000  100.000000\n",
            "max    159.000000  184.000000\n",
            "count  169.000000  169.000000\n",
            "mean   107.461538  134.047337\n"
          ]
        }
      ]
    },
    {
      "cell_type": "code",
      "source": [
        "# F.Filter the dataframe to select the rows with calories values between 500 and 1000.\n",
        "filtered_df = df[(df['Calories'] >= 500) & (df['Calories'] <= 1000)]\n",
        "print(filtered_df)"
      ],
      "metadata": {
        "colab": {
          "base_uri": "https://localhost:8080/"
        },
        "id": "JQ08lym1K5bu",
        "outputId": "26279621-0129-4138-e67d-329f4e2c063c"
      },
      "execution_count": 10,
      "outputs": [
        {
          "output_type": "stream",
          "name": "stdout",
          "text": [
            "     Duration  Pulse  Maxpulse  Calories\n",
            "51         80    123       146     643.1\n",
            "62        160    109       135     853.0\n",
            "65        180     90       130     800.4\n",
            "66        150    105       135     873.4\n",
            "67        150    107       130     816.0\n",
            "72         90    100       127     700.0\n",
            "73        150     97       127     953.2\n",
            "75         90     98       125     563.2\n",
            "78        120    100       130     500.4\n",
            "83        120    100       130     500.0\n",
            "90        180    101       127     600.1\n",
            "99         90     93       124     604.1\n",
            "101        90     90       110     500.0\n",
            "102        90     90       100     500.0\n",
            "103        90     90       100     500.4\n",
            "106       180     90       120     800.3\n",
            "108        90     90       120     500.3\n"
          ]
        }
      ]
    },
    {
      "cell_type": "code",
      "source": [
        "#G. Filter the dataframe to select the rows with calories values > 500 and pulse < 100\n",
        "\n",
        "filtered_df2 = df[(df['Calories'] > 500) & (df['Pulse'] < 100)]\n",
        "print(filtered_df2)"
      ],
      "metadata": {
        "colab": {
          "base_uri": "https://localhost:8080/"
        },
        "id": "XBTJEIlwLEWJ",
        "outputId": "f4b6daa9-bfa2-4f0e-e413-d905f3ca7ed5"
      },
      "execution_count": 11,
      "outputs": [
        {
          "output_type": "stream",
          "name": "stdout",
          "text": [
            "     Duration  Pulse  Maxpulse  Calories\n",
            "65        180     90       130     800.4\n",
            "70        150     97       129    1115.0\n",
            "73        150     97       127     953.2\n",
            "75         90     98       125     563.2\n",
            "99         90     93       124     604.1\n",
            "103        90     90       100     500.4\n",
            "106       180     90       120     800.3\n",
            "108        90     90       120     500.3\n"
          ]
        }
      ]
    },
    {
      "cell_type": "code",
      "source": [
        "# H. Create a new “df_modified” dataframe that contains all the columns from df except for “Maxpulse”\n",
        "\n",
        "df_modified = df.drop('Maxpulse', axis=1)\n",
        "print(df_modified)\n"
      ],
      "metadata": {
        "colab": {
          "base_uri": "https://localhost:8080/"
        },
        "id": "_gyOpwTqLSfm",
        "outputId": "effc4226-544b-4e8c-c144-46a18950aa3d"
      },
      "execution_count": 12,
      "outputs": [
        {
          "output_type": "stream",
          "name": "stdout",
          "text": [
            "     Duration  Pulse  Calories\n",
            "0          60    110     409.1\n",
            "1          60    117     479.0\n",
            "2          60    103     340.0\n",
            "3          45    109     282.4\n",
            "4          45    117     406.0\n",
            "..        ...    ...       ...\n",
            "164        60    105     290.8\n",
            "165        60    110     300.0\n",
            "166        60    115     310.2\n",
            "167        75    120     320.4\n",
            "168        75    125     330.4\n",
            "\n",
            "[169 rows x 3 columns]\n"
          ]
        }
      ]
    },
    {
      "cell_type": "code",
      "source": [
        "# I. Delete the “Maxpulse” column from the main df dataframe\n",
        "\n",
        "df.drop('Maxpulse', axis=1, inplace=True)\n"
      ],
      "metadata": {
        "id": "7pFF-MytLiSj"
      },
      "execution_count": 13,
      "outputs": []
    },
    {
      "cell_type": "code",
      "source": [
        "# J.Convert the datatype of Calories column to int datatype.\n",
        "\n",
        "df['Calories'] = df['Calories'].astype(int)\n"
      ],
      "metadata": {
        "id": "4kj3NKpaL0D2"
      },
      "execution_count": 14,
      "outputs": []
    },
    {
      "cell_type": "code",
      "source": [
        "# K. Using pandas create a scatter plot for the two columns (Duration and Calories).\n",
        "\n",
        "import matplotlib.pyplot as plt\n",
        "\n",
        "plt.scatter(df['Duration'], df['Calories'])\n",
        "plt.xlabel('Duration')\n",
        "plt.ylabel('Calories')\n",
        "plt.title('Duration vs Calories')\n",
        "plt.show()\n"
      ],
      "metadata": {
        "colab": {
          "base_uri": "https://localhost:8080/",
          "height": 472
        },
        "id": "DnHp4FjIL8Mf",
        "outputId": "ad877366-0c06-4287-988c-8ea2c69434b3"
      },
      "execution_count": 15,
      "outputs": [
        {
          "output_type": "display_data",
          "data": {
            "text/plain": [
              "<Figure size 640x480 with 1 Axes>"
            ],
            "image/png": "[encoded data removed]"
          },
          "metadata": {}
        }
      ]
    },
    {
      "cell_type": "code",
      "source": [
        "#Question 2.\n",
        "#Linear Regression\n",
        "# Importing the required libraries\n",
        "\n",
        "import pandas as pd\n",
        "import numpy as np\n",
        "import matplotlib.pyplot as plt\n",
        "from sklearn.model_selection import train_test_split\n",
        "from sklearn.linear_model import LinearRegression\n",
        "from sklearn.metrics import mean_squared_error\n"
      ],
      "metadata": {
        "id": "wAhhjCKUMGfj"
      },
      "execution_count": null,
      "outputs": []
    },
    {
      "cell_type": "code",
      "source": [
        "# A. Loading  the CSV file into a pandas DataFrame\n",
        "df = pd.read_csv('Salary_Data.csv')\n",
        "\n",
        "# Checking the first few rows of the data by printning salary\n",
        "print(df.head())"
      ],
      "metadata": {
        "colab": {
          "base_uri": "https://localhost:8080/"
        },
        "id": "PJVy9YHBM2sA",
        "outputId": "bba326a0-9561-4258-88c1-37dfdb429119"
      },
      "execution_count": 18,
      "outputs": [
        {
          "output_type": "stream",
          "name": "stdout",
          "text": [
            "   YearsExperience   Salary\n",
            "0              1.1  39343.0\n",
            "1              1.3  46205.0\n",
            "2              1.5  37731.0\n",
            "3              2.0  43525.0\n",
            "4              2.2  39891.0\n"
          ]
        }
      ]
    },
    {
      "cell_type": "code",
      "source": [
        "# B. Split the data in train_test partitions, such that 1/3 of the data is reserved as test subset\n",
        "# Split the data into features (X) and target (y)\n",
        "\n",
        "#Importing required library\n",
        "from sklearn.model_selection import train_test_split # Importing the train_test_split function\n",
        "X = df[['YearsExperience']]  # Features (independent variable)\n",
        "y = df['Salary']             # Target (dependent variable)\n",
        "\n",
        "# Split into training and testing data (1/3 test, 2/3 train)\n",
        "X_train, X_test, y_train, y_test = train_test_split(X, y, test_size=0.33, random_state=42)\n",
        "\n",
        "# Display the sizes of the splits\n",
        "print(f'Training set size: {len(X_train)}')\n",
        "print(f'Testing set size: {len(X_test)}')\n"
      ],
      "metadata": {
        "colab": {
          "base_uri": "https://localhost:8080/"
        },
        "id": "w3APed92Nf09",
        "outputId": "f04b77be-4433-490f-d4a9-6100afd84336"
      },
      "execution_count": 20,
      "outputs": [
        {
          "output_type": "stream",
          "name": "stdout",
          "text": [
            "Training set size: 20\n",
            "Testing set size: 10\n"
          ]
        }
      ]
    },
    {
      "cell_type": "code",
      "source": [
        "#C.  Train and predict the model\n",
        "\n",
        "# Importing the LinearRegression class from sklearn.linear_model\n",
        "from sklearn.linear_model import LinearRegression\n",
        "\n",
        "# Initialize the Linear Regression model\n",
        "model = LinearRegression()\n",
        "\n",
        "# Train the model on the training data\n",
        "model.fit(X_train, y_train)\n",
        "\n",
        "# Make predictions on the test set\n",
        "y_pred = model.predict(X_test)\n",
        "\n",
        "# Display the predicted salaries for the test set\n",
        "print(y_pred)\n"
      ],
      "metadata": {
        "colab": {
          "base_uri": "https://localhost:8080/"
        },
        "id": "7X1DVPbWOvy5",
        "outputId": "4aaf3014-c5a2-4c53-882e-45199883abec"
      },
      "execution_count": 22,
      "outputs": [
        {
          "output_type": "stream",
          "name": "stdout",
          "text": [
            "[115814.30756236  71511.92534771 102617.85328566  75282.34085534\n",
            "  55487.65944028  60200.67882482 122412.53470072 107330.8726702\n",
            "  63028.49045554  35692.97802523]\n"
          ]
        }
      ]
    },
    {
      "cell_type": "code",
      "source": [
        "#D. Calculate the mean_squared error\n",
        "\n",
        "# Importing the required library\n",
        "from sklearn.metrics import mean_squared_error\n",
        "\n",
        "# Calculate the Mean Squared Error (MSE)\n",
        "mse = mean_squared_error(y_test, y_pred)\n",
        "print(f'Mean Squared Error: {mse}')\n"
      ],
      "metadata": {
        "colab": {
          "base_uri": "https://localhost:8080/"
        },
        "id": "MphiXTYgbSok",
        "outputId": "b6495e4a-e35e-4404-80e3-1bb98789b646"
      },
      "execution_count": 24,
      "outputs": [
        {
          "output_type": "stream",
          "name": "stdout",
          "text": [
            "Mean Squared Error: 35301898.887134895\n"
          ]
        }
      ]
    },
    {
      "cell_type": "code",
      "source": [
        "#E. Visualize both train and test data using scatter plot.\n",
        "\n",
        "# Scatter plot of training data\n",
        "plt.scatter(X_train, y_train, color='blue', label='Train data')\n",
        "\n",
        "# Scatter plot of testing data\n",
        "plt.scatter(X_test, y_test, color='red', label='Test data')\n",
        "\n",
        "# Plot the regression line (for visualization, use the full data set)\n",
        "plt.plot(X, model.predict(X), color='green', label='Regression Line')\n",
        "\n",
        "# Labels and title\n",
        "plt.xlabel('Years of Experience')\n",
        "plt.ylabel('Salary')\n",
        "plt.title('Linear Regression: Salary vs Years of Experience')\n",
        "\n",
        "# Show the plot with a legend\n",
        "plt.legend()\n",
        "plt.show()\n"
      ],
      "metadata": {
        "colab": {
          "base_uri": "https://localhost:8080/",
          "height": 472
        },
        "id": "p1zLGyulbikL",
        "outputId": "695eba39-5edb-4bc7-80ec-bb6c01a2e38d"
      },
      "execution_count": 25,
      "outputs": [
        {
          "output_type": "display_data",
          "data": {
            "text/plain": [
              "<Figure size 640x480 with 1 Axes>"
            ],
            "image/png": "[encoded data removed]"
          },
          "metadata": {}
        }
      ]
    },
    {
      "cell_type": "code",
      "source": [],
      "metadata": {
        "id": "8zygqmrEi0JQ"
      },
      "execution_count": null,
      "outputs": []
    }
  ]
}