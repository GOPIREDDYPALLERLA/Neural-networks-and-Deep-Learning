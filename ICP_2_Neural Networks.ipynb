{
  "nbformat": 4,
  "nbformat_minor": 0,
  "metadata": {
    "colab": {
      "provenance": []
    },
    "kernelspec": {
      "name": "python3",
      "display_name": "Python 3"
    },
    "language_info": {
      "name": "python"
    }
  },
  "cells": [
    {
      "cell_type": "code",
      "source": [
        "# ICP2 Assingment\n",
        "# Author: Gopi Reddy Pallerla\n",
        "#code: python\n",
        "\n",
        "\n",
        "#Q 1\n",
        "\n",
        "# Employee class definition\n",
        "class Employee:\n",
        "    # Class variable to count the number of employees\n",
        "    employee_count = 0\n",
        "\n",
        "# Constructor to initialize employee details\n",
        "    def __init__(self, name, family, salary, department):\n",
        "        self.name = name\n",
        "        self.family = family\n",
        "        self.salary = salary\n",
        "        self.department = department\n",
        "        Employee.employee_count += 1  # Increment employee count when an employee is created\n",
        "\n",
        "    # Method to calculate the average salary of all employees\n",
        "    @classmethod\n",
        "    def average_salary(cls, employees):\n",
        "        total_salary = sum(emp.salary for emp in employees)\n",
        "        return total_salary / len(employees) if employees else 0\n",
        "\n",
        "    # Display employee details\n",
        "    def display_employee(self):\n",
        "        print(f\"Name: {self.name}, Family: {self.family}, Salary: {self.salary}, Department: {self.department}\")\n",
        "\n",
        "# FulltimeEmployee class inheriting from Employee class\n",
        "class FulltimeEmployee(Employee):\n",
        "    def __init__(self, name, family, salary, department, bonus):\n",
        "        # Call the constructor of the Employee class\n",
        "        super().__init__(name, family, salary, department)\n",
        "        self.bonus = bonus  # Additional data member for FulltimeEmployee class\n",
        "\n",
        "    # Display fulltime employee details along with bonus\n",
        "    def display_fulltime_employee(self):\n",
        "        print(f\"Name: {self.name}, Family: {self.family}, Salary: {self.salary}, Department: {self.department}, Bonus: {self.bonus}\")\n",
        "\n",
        "# Create instances of Employee and FulltimeEmployee\n",
        "emp1 = Employee(\"Gopi\", \"Reddy\", 60000, \"Market\")\n",
        "emp2 = Employee(\"eswar\", \"Bhai\", 70000, \"Finance\")\n",
        "emp3 = FulltimeEmployee(\"mahesh\", \"babu\", 80000, \"hero\", 5000)\n",
        "emp4 = FulltimeEmployee(\"anushka\", \"shetty\", 90000, \"heroine\", 4000)\n",
        "\n",
        "# Display employee details\n",
        "print(\"Employee Details:\")\n",
        "emp1.display_employee()\n",
        "emp2.display_employee()\n",
        "\n",
        "print(\"\\nFulltime Employee Details:\")\n",
        "emp3.display_fulltime_employee()\n",
        "emp4.display_fulltime_employee()\n",
        "\n",
        "# Calculate and print average salary\n",
        "employees = [emp1, emp2, emp3, emp4]\n",
        "avg_salary = Employee.average_salary(employees)\n",
        "print(f\"\\nAverage Salary of all employees: {avg_salary:.2f}\")"
      ],
      "metadata": {
        "colab": {
          "base_uri": "https://localhost:8080/"
        },
        "id": "LYAu8O8CRx2c",
        "outputId": "281e2cdd-0463-49e5-f4e2-42e8041f88da"
      },
      "execution_count": 16,
      "outputs": [
        {
          "output_type": "stream",
          "name": "stdout",
          "text": [
            "Employee Details:\n",
            "Name: Gopi, Family: Reddy, Salary: 60000, Department: Market\n",
            "Name: eswar, Family: Bhai, Salary: 70000, Department: Finance\n",
            "\n",
            "Fulltime Employee Details:\n",
            "Name: mahesh, Family: babu, Salary: 80000, Department: hero, Bonus: 5000\n",
            "Name: anushka, Family: shetty, Salary: 90000, Department: heroine, Bonus: 4000\n",
            "\n",
            "Average Salary of all employees: 75000.00\n"
          ]
        }
      ]
    },
    {
      "cell_type": "code",
      "source": [
        "# Q 2\n",
        "\n",
        "import numpy as np\n",
        "\n",
        "# Step 1: Create a random vector of size 20 with floats in the range [1, 20]\n",
        "vector = np.random.uniform(1, 20, size=20)\n",
        "\n",
        "# Step 2: Reshape the vector to a 4x5 array\n",
        "matrix = vector.reshape(4, 5)\n",
        "\n",
        "# Step 3: Replace the max value in each row by 0 (axis=1)\n",
        "matrix[np.arange(matrix.shape[0]), matrix.argmax(axis=1)] = 0\n",
        "\n",
        "# Print the result\n",
        "print(\"Modified matrix:\\n\", matrix)\n"
      ],
      "metadata": {
        "colab": {
          "base_uri": "https://localhost:8080/"
        },
        "id": "vItBvuPySyHX",
        "outputId": "ee24d09c-36e0-47d9-a38f-d490a8cb7495"
      },
      "execution_count": 17,
      "outputs": [
        {
          "output_type": "stream",
          "name": "stdout",
          "text": [
            "Modified matrix:\n",
            " [[ 0.         16.04979343 11.52826002 14.75961884 12.1579554 ]\n",
            " [10.65396818  0.         10.08809239  8.05132105  5.78250891]\n",
            " [ 9.82030092 15.34610228  9.60362374  0.          9.58829379]\n",
            " [ 8.34198157  5.85733946  0.         13.58484073  4.50765962]]\n"
          ]
        }
      ]
    },
    {
      "cell_type": "code",
      "source": [],
      "metadata": {
        "id": "MhTu2clCR5yD"
      },
      "execution_count": null,
      "outputs": []
    },
    {
      "cell_type": "code",
      "source": [],
      "metadata": {
        "id": "A2ETTGRGLBj5"
      },
      "execution_count": 13,
      "outputs": []
    }
  ]
}