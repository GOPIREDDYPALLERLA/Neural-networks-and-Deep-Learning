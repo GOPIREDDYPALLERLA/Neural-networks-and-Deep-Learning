{
  "nbformat": 4,
  "nbformat_minor": 0,
  "metadata": {
    "colab": {
      "provenance": []
    },
    "kernelspec": {
      "name": "python3",
      "display_name": "Python 3"
    },
    "language_info": {
      "name": "python"
    }
  },
  "cells": [
    {
      "cell_type": "code",
      "execution_count": 2,
      "metadata": {
        "colab": {
          "base_uri": "https://localhost:8080/"
        },
        "id": "MvaDCasaR_s7",
        "outputId": "a2a0a862-fd47-452b-d800-eb91be3359f5"
      },
      "outputs": [
        {
          "output_type": "stream",
          "name": "stdout",
          "text": [
            "Enter your first name: Good\n",
            "Enter your last name: Evening\n",
            "Full name: Good Evening\n",
            "Alternative string: Go vnn\n"
          ]
        }
      ],
      "source": [
        "def string_alternative(full_name):\n",
        "    return full_name[::2]\n",
        "\n",
        "def main():\n",
        "    first_name = input(\"Enter your first name: \")\n",
        "    last_name = input(\"Enter your last name: \")\n",
        "    full_name = first_name + \" \" + last_name\n",
        "    print(\"Full name:\", full_name)\n",
        "    alternative_string = string_alternative(full_name)\n",
        "    print(\"Alternative string:\", alternative_string)\n",
        "\n",
        "if __name__ == \"__main__\":\n",
        "    main()\n"
      ]
    },
    {
      "cell_type": "code",
      "source": [
        "def count_words(filename):\n",
        "    from collections import Counter\n",
        "    word_count = Counter()\n",
        "    with open(filename, 'r') as file:\n",
        "        for line in file:\n",
        "            word_count.update(line.strip().split())\n",
        "    return word_count\n",
        "\n",
        "def main():\n",
        "    input_file = 'input.txt'\n",
        "    output_file = 'output.txt'\n",
        "    counts = count_words(input_file)\n",
        "    with open(output_file, 'w') as file:\n",
        "        for word, count in counts.items():\n",
        "            file.write(f\"{word}: {count}\\n\")\n",
        "\n",
        "if __name__ == \"__main__\":\n",
        "    main()\n"
      ],
      "metadata": {
        "id": "isAmbDN0SfI_"
      },
      "execution_count": 11,
      "outputs": []
    },
    {
      "cell_type": "code",
      "source": [
        "def convert_heights(inches_list):\n",
        "    return [round(height * 0.453592, 2) for height in inches_list]\n",
        "\n",
        "def main():\n",
        "    heights_inches = []\n",
        "    while True:\n",
        "        height = input(\"Enter height in inches (type 'done' to finish): \")\n",
        "        if height.lower() == 'done':\n",
        "            break\n",
        "        heights_inches.append(float(height))\n",
        "    heights_cm = convert_heights(heights_inches)\n",
        "    print(\"Heights in centimeters:\", heights_cm)\n",
        "\n",
        "if __name__ == \"__main__\":\n",
        "    main()\n"
      ],
      "metadata": {
        "colab": {
          "base_uri": "https://localhost:8080/"
        },
        "id": "AXYYCFbzTXUd",
        "outputId": "379bb0bf-edc1-4d1d-daaa-4416d5a7dda8"
      },
      "execution_count": 37,
      "outputs": [
        {
          "output_type": "stream",
          "name": "stdout",
          "text": [
            "Enter height in inches (type 'done' to finish): 150\n",
            "Enter height in inches (type 'done' to finish): 155\n",
            "Enter height in inches (type 'done' to finish): 145\n",
            "Enter height in inches (type 'done' to finish): 148\n",
            "Enter height in inches (type 'done' to finish): done\n",
            "Heights in centimeters: [68.04, 70.31, 65.77, 67.13]\n"
          ]
        }
      ]
    }
  ]
}